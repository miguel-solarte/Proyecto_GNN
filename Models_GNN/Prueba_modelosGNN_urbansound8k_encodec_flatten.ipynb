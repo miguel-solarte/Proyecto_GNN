{
 "cells": [
  {
   "cell_type": "code",
   "execution_count": 21,
   "metadata": {},
   "outputs": [],
   "source": [
    "import numpy as np\n",
    "import pandas as pd\n",
    "import h5py\n",
    "import matplotlib.pyplot as plt\n",
    "\n",
    "\n",
    "import torch\n",
    "import torch.nn as nn\n",
    "import torch.nn.functional as F\n",
    "\n",
    "import train_test \n",
    "\n",
    "from load_dataset import MyOwnDatasetFixedKnn\n",
    "from models import GAT, GCN, GraphSAGE"
   ]
  },
  {
   "cell_type": "code",
   "execution_count": 22,
   "metadata": {},
   "outputs": [
    {
     "name": "stdout",
     "output_type": "stream",
     "text": [
      "cuda\n"
     ]
    }
   ],
   "source": [
    "device = torch.device('cuda' if torch.cuda.is_available() else 'cpu')\n",
    "print(device)"
   ]
  },
  {
   "attachments": {},
   "cell_type": "markdown",
   "metadata": {},
   "source": [
    "# Variando numero de epocas"
   ]
  },
  {
   "cell_type": "code",
   "execution_count": 24,
   "metadata": {},
   "outputs": [],
   "source": [
    "from torch_geometric.loader import DataLoader\n",
    "\n",
    "path1 = \"TF_encodec_flatten_signal_t4.csv\"\n",
    "path2 = \"UrbanSound8K_t4_6864.hdf5\"\n",
    "dataset = MyOwnDatasetFixedKnn(root = \"../own_dataset/data_encodec_flatten_fixed_knn\", path = [path1,path2])\n",
    "loader_dataset = DataLoader(dataset)"
   ]
  },
  {
   "cell_type": "code",
   "execution_count": 25,
   "metadata": {},
   "outputs": [
    {
     "name": "stdout",
     "output_type": "stream",
     "text": [
      "Data(x=[6864, 38400], edge_index=[2, 34320], y=[6864], train_mask=[5461], test_mask=[718], val_mask=[685])\n",
      "Data(x=[6864, 38400], edge_index=[2, 34320], y=[6864], train_mask=[5426], test_mask=[685], val_mask=[753])\n",
      "Data(x=[6864, 38400], edge_index=[2, 34320], y=[6864], train_mask=[5365], test_mask=[753], val_mask=[746])\n",
      "Data(x=[6864, 38400], edge_index=[2, 34320], y=[6864], train_mask=[5380], test_mask=[746], val_mask=[738])\n",
      "Data(x=[6864, 38400], edge_index=[2, 34320], y=[6864], train_mask=[5489], test_mask=[738], val_mask=[637])\n",
      "Data(x=[6864, 38400], edge_index=[2, 34320], y=[6864], train_mask=[5544], test_mask=[637], val_mask=[683])\n",
      "Data(x=[6864, 38400], edge_index=[2, 34320], y=[6864], train_mask=[5589], test_mask=[683], val_mask=[592])\n",
      "Data(x=[6864, 38400], edge_index=[2, 34320], y=[6864], train_mask=[5605], test_mask=[592], val_mask=[667])\n",
      "Data(x=[6864, 38400], edge_index=[2, 34320], y=[6864], train_mask=[5552], test_mask=[667], val_mask=[645])\n",
      "Data(x=[6864, 38400], edge_index=[2, 34320], y=[6864], train_mask=[5501], test_mask=[645], val_mask=[718])\n"
     ]
    }
   ],
   "source": [
    "for i in dataset:\n",
    "    print(i)"
   ]
  },
  {
   "cell_type": "code",
   "execution_count": 26,
   "metadata": {},
   "outputs": [
    {
     "data": {
      "text/plain": [
       "torch.int64"
      ]
     },
     "execution_count": 26,
     "metadata": {},
     "output_type": "execute_result"
    }
   ],
   "source": [
    "i.y.dtype"
   ]
  },
  {
   "cell_type": "code",
   "execution_count": 14,
   "metadata": {},
   "outputs": [],
   "source": [
    "#GAT\n",
    "\n",
    "  \n",
    "prom_acc_gat = []\n",
    "dev_values_gat = []\n",
    "num_epochs_gat = []\n",
    "\n",
    "#GCN\n",
    "\n",
    "\n",
    "prom_acc_gcn = []\n",
    "dev_values_gcn = []\n",
    "num_epochs_gcn = []\n",
    "\n",
    "#SAGE\n",
    "\n",
    "\n",
    "prom_acc_sage = []\n",
    "dev_values_sage = []\n",
    "num_epochs_sage = []"
   ]
  },
  {
   "cell_type": "code",
   "execution_count": 27,
   "metadata": {},
   "outputs": [
    {
     "ename": "OutOfMemoryError",
     "evalue": "CUDA out of memory. Tried to allocate 1.96 GiB (GPU 0; 5.81 GiB total capacity; 2.33 GiB already allocated; 1.22 GiB free; 3.99 GiB reserved in total by PyTorch) If reserved memory is >> allocated memory try setting max_split_size_mb to avoid fragmentation.  See documentation for Memory Management and PYTORCH_CUDA_ALLOC_CONF",
     "output_type": "error",
     "traceback": [
      "\u001b[0;31m---------------------------------------------------------------------------\u001b[0m",
      "\u001b[0;31mOutOfMemoryError\u001b[0m                          Traceback (most recent call last)",
      "Cell \u001b[0;32mIn[27], line 22\u001b[0m\n\u001b[1;32m     20\u001b[0m       graphs\u001b[39m.\u001b[39mto(device)\n\u001b[1;32m     21\u001b[0m       gat \u001b[39m=\u001b[39m GAT(\u001b[39m38400\u001b[39m, \u001b[39m20\u001b[39m, \u001b[39m10\u001b[39m)\u001b[39m.\u001b[39mto(device)\n\u001b[0;32m---> 22\u001b[0m       train_test\u001b[39m.\u001b[39;49mtrain(gat, graphs, epoch \u001b[39m=\u001b[39;49m i, enable \u001b[39m=\u001b[39;49m \u001b[39mFalse\u001b[39;49;00m)\n\u001b[1;32m     23\u001b[0m       acc_gat\u001b[39m.\u001b[39mappend(train_test\u001b[39m.\u001b[39mtest(gat, graphs, graphs\u001b[39m.\u001b[39mtest_mask))\n\u001b[1;32m     25\u001b[0m \u001b[39m#==========================GCN===============================================  \u001b[39;00m\n",
      "File \u001b[0;32m~/Proyecto_GNN/Models_GNN/train_test.py:25\u001b[0m, in \u001b[0;36mtrain\u001b[0;34m(model, data, epoch, enable)\u001b[0m\n\u001b[1;32m     22\u001b[0m \u001b[39mfor\u001b[39;00m epoch \u001b[39min\u001b[39;00m \u001b[39mrange\u001b[39m(epochs\u001b[39m+\u001b[39m\u001b[39m1\u001b[39m):\n\u001b[1;32m     24\u001b[0m     optimizer\u001b[39m.\u001b[39mzero_grad()\n\u001b[0;32m---> 25\u001b[0m     out \u001b[39m=\u001b[39m model(data\u001b[39m.\u001b[39mx\u001b[39m.\u001b[39mto(torch\u001b[39m.\u001b[39mfloat32), data\u001b[39m.\u001b[39medge_index)\n\u001b[1;32m     26\u001b[0m     loss \u001b[39m=\u001b[39m f_loss(out[data\u001b[39m.\u001b[39mtrain_mask], data\u001b[39m.\u001b[39my[data\u001b[39m.\u001b[39mtrain_mask])\n\u001b[1;32m     27\u001b[0m     acc \u001b[39m=\u001b[39m accuracy(torch\u001b[39m.\u001b[39margmax(out, dim \u001b[39m=\u001b[39m \u001b[39m1\u001b[39m)[data\u001b[39m.\u001b[39mtrain_mask], data\u001b[39m.\u001b[39my[data\u001b[39m.\u001b[39mtrain_mask])\n",
      "File \u001b[0;32m~/Proyecto_GNN/env/lib/python3.8/site-packages/torch/nn/modules/module.py:1190\u001b[0m, in \u001b[0;36mModule._call_impl\u001b[0;34m(self, *input, **kwargs)\u001b[0m\n\u001b[1;32m   1186\u001b[0m \u001b[39m# If we don't have any hooks, we want to skip the rest of the logic in\u001b[39;00m\n\u001b[1;32m   1187\u001b[0m \u001b[39m# this function, and just call forward.\u001b[39;00m\n\u001b[1;32m   1188\u001b[0m \u001b[39mif\u001b[39;00m \u001b[39mnot\u001b[39;00m (\u001b[39mself\u001b[39m\u001b[39m.\u001b[39m_backward_hooks \u001b[39mor\u001b[39;00m \u001b[39mself\u001b[39m\u001b[39m.\u001b[39m_forward_hooks \u001b[39mor\u001b[39;00m \u001b[39mself\u001b[39m\u001b[39m.\u001b[39m_forward_pre_hooks \u001b[39mor\u001b[39;00m _global_backward_hooks\n\u001b[1;32m   1189\u001b[0m         \u001b[39mor\u001b[39;00m _global_forward_hooks \u001b[39mor\u001b[39;00m _global_forward_pre_hooks):\n\u001b[0;32m-> 1190\u001b[0m     \u001b[39mreturn\u001b[39;00m forward_call(\u001b[39m*\u001b[39;49m\u001b[39minput\u001b[39;49m, \u001b[39m*\u001b[39;49m\u001b[39m*\u001b[39;49mkwargs)\n\u001b[1;32m   1191\u001b[0m \u001b[39m# Do not call functions when jit is used\u001b[39;00m\n\u001b[1;32m   1192\u001b[0m full_backward_hooks, non_full_backward_hooks \u001b[39m=\u001b[39m [], []\n",
      "File \u001b[0;32m~/Proyecto_GNN/Models_GNN/models.py:17\u001b[0m, in \u001b[0;36mGAT.forward\u001b[0;34m(self, x, edge_index)\u001b[0m\n\u001b[1;32m     16\u001b[0m \u001b[39mdef\u001b[39;00m \u001b[39mforward\u001b[39m(\u001b[39mself\u001b[39m, x, edge_index):\n\u001b[0;32m---> 17\u001b[0m   h \u001b[39m=\u001b[39m F\u001b[39m.\u001b[39;49mdropout(x, p\u001b[39m=\u001b[39;49m\u001b[39m0.5\u001b[39;49m, training\u001b[39m=\u001b[39;49m\u001b[39mself\u001b[39;49m\u001b[39m.\u001b[39;49mtraining)\n\u001b[1;32m     18\u001b[0m   h \u001b[39m=\u001b[39m \u001b[39mself\u001b[39m\u001b[39m.\u001b[39mgat1(h, edge_index)\n\u001b[1;32m     19\u001b[0m   h \u001b[39m=\u001b[39m F\u001b[39m.\u001b[39mrelu(h)\n",
      "File \u001b[0;32m~/Proyecto_GNN/env/lib/python3.8/site-packages/torch/nn/functional.py:1252\u001b[0m, in \u001b[0;36mdropout\u001b[0;34m(input, p, training, inplace)\u001b[0m\n\u001b[1;32m   1250\u001b[0m \u001b[39mif\u001b[39;00m p \u001b[39m<\u001b[39m \u001b[39m0.0\u001b[39m \u001b[39mor\u001b[39;00m p \u001b[39m>\u001b[39m \u001b[39m1.0\u001b[39m:\n\u001b[1;32m   1251\u001b[0m     \u001b[39mraise\u001b[39;00m \u001b[39mValueError\u001b[39;00m(\u001b[39m\"\u001b[39m\u001b[39mdropout probability has to be between 0 and 1, \u001b[39m\u001b[39m\"\u001b[39m \u001b[39m\"\u001b[39m\u001b[39mbut got \u001b[39m\u001b[39m{}\u001b[39;00m\u001b[39m\"\u001b[39m\u001b[39m.\u001b[39mformat(p))\n\u001b[0;32m-> 1252\u001b[0m \u001b[39mreturn\u001b[39;00m _VF\u001b[39m.\u001b[39mdropout_(\u001b[39minput\u001b[39m, p, training) \u001b[39mif\u001b[39;00m inplace \u001b[39melse\u001b[39;00m _VF\u001b[39m.\u001b[39;49mdropout(\u001b[39minput\u001b[39;49m, p, training)\n",
      "\u001b[0;31mOutOfMemoryError\u001b[0m: CUDA out of memory. Tried to allocate 1.96 GiB (GPU 0; 5.81 GiB total capacity; 2.33 GiB already allocated; 1.22 GiB free; 3.99 GiB reserved in total by PyTorch) If reserved memory is >> allocated memory try setting max_split_size_mb to avoid fragmentation.  See documentation for Memory Management and PYTORCH_CUDA_ALLOC_CONF"
     ]
    }
   ],
   "source": [
    "for i in range(30,2230,200):\n",
    "#GAT\n",
    "\n",
    "  acc_gat = []\n",
    " \n",
    "\n",
    "#GCN\n",
    "\n",
    "  acc_gcn = []\n",
    "\n",
    "\n",
    "#SAGE\n",
    "\n",
    "  acc_sage = []\n",
    "\n",
    "\n",
    "  for n, graphs in enumerate(loader_dataset):\n",
    "      \n",
    "#==========================GAT===============================================\n",
    "      graphs.to(device)\n",
    "      gat = GAT(38400, 20, 10).to(device)\n",
    "      train_test.train(gat, graphs, epoch = i, enable = False)\n",
    "      acc_gat.append(train_test.test(gat, graphs, graphs.test_mask))\n",
    "\n",
    "#==========================GCN===============================================  \n",
    "\n",
    "      \n",
    "      gcn = GCN(38400, 20, 10).to(device)\n",
    "      train_test.train(gcn, graphs, epoch = i, enable = False)\n",
    "      acc_gcn.append(train_test.test(gcn, graphs, graphs.test_mask))\n",
    "\n",
    "#==========================SAGE=============================================== \n",
    "\n",
    "      \n",
    "      g_sage = GraphSAGE(38400, 20, 10).to(device)\n",
    "      train_test.train(g_sage, graphs, epoch = i, enable = False)\n",
    "      acc_sage.append(train_test.test(g_sage, graphs, graphs.test_mask))\n",
    "\n",
    "#==========================GAT===============================================\n",
    "\n",
    "  prom_acc_gat.append(np.mean(acc_gat))\n",
    "  dev_values_gat.append(np.std(acc_gat))\n",
    "  num_epochs_gat.append(i)\n",
    "\n",
    "#==========================GCN===============================================  \n",
    "\n",
    "  prom_acc_gcn.append(np.mean(acc_gcn))\n",
    "  dev_values_gcn.append(np.std(acc_gcn))\n",
    "  num_epochs_gcn.append(i)\n",
    "\n",
    "#==========================SAGE===============================================  \n",
    "\n",
    "  prom_acc_sage.append(np.mean(acc_sage))\n",
    "  dev_values_sage.append(np.std(acc_sage))\n",
    "  num_epochs_sage.append(i)\n",
    "\n",
    "  print(f\"GAT\\n accuracy mean: {np.mean(acc_gat)*100:.2f}% | standard deviation: {np.std(acc_gat):.2f} | epochs: {i}\\n\"\n",
    "        f\"GCN\\n accuracy mean: {np.mean(acc_gcn)*100:.2f}% | standard deviation: {np.std(acc_gcn):.2f} | epochs: {i}\\n\"\n",
    "        f\"SAGE\\n accuracy mean: {np.mean(acc_sage)*100:.2f}% | standard deviation: {np.std(acc_sage):.2f} | epochs: {i}\\n\\n\"\n",
    "        f\"==============================================================================================================\")"
   ]
  },
  {
   "cell_type": "code",
   "execution_count": null,
   "metadata": {},
   "outputs": [],
   "source": [
    "arr_num_epochs_gat = np.array(num_epochs_gat)\n",
    "arr_prom_acc_gat = np.array(prom_acc_gat)\n",
    "arr_dev_values_gat = np.array(dev_values_gat)\n",
    "\n",
    "\n",
    "arr_num_epochs_gcn = np.array(num_epochs_gcn)\n",
    "arr_prom_acc_gcn = np.array(prom_acc_gcn)\n",
    "arr_dev_values_gcn = np.array(dev_values_gcn)\n",
    "\n",
    "arr_num_epochs_sage = np.array(num_epochs_sage)\n",
    "arr_prom_acc_sage = np.array(prom_acc_sage)\n",
    "arr_dev_values_sage = np.array(dev_values_sage)"
   ]
  },
  {
   "cell_type": "code",
   "execution_count": null,
   "metadata": {},
   "outputs": [],
   "source": [
    "f = h5py.File(\"./variacion_epochs_encodec_flatten.hdf5\", \"w\")\n",
    "\n",
    "dset = f.create_dataset(\"Numero_epochs_GAT\", arr_num_epochs_gat.shape, data = arr_num_epochs_gat)\n",
    "dset = f.create_dataset(\"Promedios_Acc_GAT\", arr_prom_acc_gat.shape, data = arr_prom_acc_gat)\n",
    "dset = f.create_dataset(\"desviacion_GAT\", arr_dev_values_gat.shape, data = arr_dev_values_gat)\n",
    "\n",
    "dset = f.create_dataset(\"Numero_epochs_GCN\", arr_num_epochs_gcn.shape, data = arr_num_epochs_gcn)\n",
    "dset = f.create_dataset(\"Promedios_Acc_GCN\", arr_prom_acc_gcn.shape, data = arr_prom_acc_gcn)\n",
    "dset = f.create_dataset(\"desviacion_GCN\", arr_dev_values_gcn.shape, data = arr_dev_values_gcn)\n",
    "\n",
    "dset = f.create_dataset(\"Numero_epochs_SAGE\", arr_num_epochs_sage.shape, data = arr_num_epochs_sage)\n",
    "dset = f.create_dataset(\"Promedios_Acc_SAGE\", arr_prom_acc_sage.shape, data = arr_prom_acc_sage)\n",
    "dset = f.create_dataset(\"desviacion_SAGE\", arr_dev_values_sage.shape, data = arr_dev_values_sage)\n",
    "\n",
    "\n",
    "f.close()"
   ]
  }
 ],
 "metadata": {
  "kernelspec": {
   "display_name": "env",
   "language": "python",
   "name": "python3"
  },
  "language_info": {
   "codemirror_mode": {
    "name": "ipython",
    "version": 3
   },
   "file_extension": ".py",
   "mimetype": "text/x-python",
   "name": "python",
   "nbconvert_exporter": "python",
   "pygments_lexer": "ipython3",
   "version": "3.8.10"
  },
  "orig_nbformat": 4
 },
 "nbformat": 4,
 "nbformat_minor": 2
}
