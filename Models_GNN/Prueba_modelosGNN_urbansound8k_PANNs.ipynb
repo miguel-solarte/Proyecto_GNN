{
 "cells": [
  {
   "cell_type": "code",
   "execution_count": 45,
   "metadata": {},
   "outputs": [],
   "source": [
    "import numpy as np\n",
    "import pandas as pd\n",
    "import h5py\n",
    "import matplotlib.pyplot as plt\n",
    "\n",
    "\n",
    "import torch\n",
    "import torch.nn as nn\n",
    "import torch.nn.functional as F\n",
    "\n",
    "import train_test \n",
    "\n",
    "from models import GAT, GCN, GraphSAGE"
   ]
  },
  {
   "cell_type": "code",
   "execution_count": 46,
   "metadata": {},
   "outputs": [
    {
     "name": "stdout",
     "output_type": "stream",
     "text": [
      "cuda\n"
     ]
    }
   ],
   "source": [
    "device = torch.device('cuda' if torch.cuda.is_available() else 'cpu')\n",
    "print(device)"
   ]
  },
  {
   "cell_type": "code",
   "execution_count": 47,
   "metadata": {},
   "outputs": [
    {
     "name": "stdout",
     "output_type": "stream",
     "text": [
      "1.13.0+cu117\n"
     ]
    }
   ],
   "source": [
    "print(torch.__version__)"
   ]
  },
  {
   "cell_type": "code",
   "execution_count": 48,
   "metadata": {},
   "outputs": [],
   "source": [
    "from torch_geometric.data import Dataset\n",
    "\n",
    "import os.path as osp\n",
    "\n",
    "class MyOwnDatasetFixedKnn(Dataset):\n",
    "    def __init__(self, root, path, enable = False , transform=None, pre_transform=None, pre_filter=None):\n",
    "      self.path = path\n",
    "      self.enable = enable\n",
    "      super().__init__(root, transform, pre_transform, pre_filter)\n",
    "\n",
    "    @property\n",
    "    def raw_file_names(self):\n",
    "        return self.path\n",
    "\n",
    "    @property\n",
    "    def processed_file_names(self):\n",
    "      if self.enable == False:\n",
    "        return [f'data_{i}.pt' for i in range(10)]\n",
    "      else: \n",
    "        return [f'data_{i}.pt' for i in range(109)]\n",
    "\n",
    "    def len(self):\n",
    "        return len(self.processed_file_names)\n",
    "\n",
    "    def get(self, idx):\n",
    "        data = torch.load(osp.join(self.processed_dir, f'data_{idx}.pt'))\n",
    "        return data"
   ]
  },
  {
   "cell_type": "code",
   "execution_count": 49,
   "metadata": {},
   "outputs": [],
   "source": [
    "from torch_geometric.loader import DataLoader\n",
    "\n",
    "path1 = \"UrbanSound8K_8276.csv\"\n",
    "path2 = \"TF_PANNs_8276.hdf5\"\n",
    "dataset = MyOwnDatasetFixedKnn(root = \"../own_dataset/data_PANNs_fixed_knn\", path = [path1,path2])\n",
    "loader_dataset = DataLoader(dataset)"
   ]
  },
  {
   "cell_type": "code",
   "execution_count": 50,
   "metadata": {},
   "outputs": [
    {
     "data": {
      "text/plain": [
       "MyOwnDatasetFixedKnn(10)"
      ]
     },
     "execution_count": 50,
     "metadata": {},
     "output_type": "execute_result"
    }
   ],
   "source": [
    "dataset"
   ]
  },
  {
   "cell_type": "code",
   "execution_count": 51,
   "metadata": {},
   "outputs": [],
   "source": [
    "#GAT\n",
    "\n",
    "  \n",
    "prom_acc_gat = []\n",
    "dev_values_gat = []\n",
    "num_epochs_gat = []\n",
    "\n",
    "#GCN\n",
    "\n",
    "\n",
    "prom_acc_gcn = []\n",
    "dev_values_gcn = []\n",
    "num_epochs_gcn = []\n",
    "\n",
    "#SAGE\n",
    "\n",
    "\n",
    "prom_acc_sage = []\n",
    "dev_values_sage = []\n",
    "num_epochs_sage = []"
   ]
  },
  {
   "cell_type": "code",
   "execution_count": null,
   "metadata": {},
   "outputs": [],
   "source": [
    "for i in range(30,2230,200):\n",
    "#GAT\n",
    "\n",
    "  acc_gat = []\n",
    " \n",
    "\n",
    "#GCN\n",
    "\n",
    "  acc_gcn = []\n",
    "\n",
    "\n",
    "#SAGE\n",
    "\n",
    "  acc_sage = []\n",
    "\n",
    "\n",
    "  for n, graphs in enumerate(loader_dataset):\n",
    "      \n",
    "#==========================GAT===============================================\n",
    "      graphs.to(device)\n",
    "      gat = GAT(2048, 20, 10).to(device)\n",
    "      train_test.train(gat, graphs, epoch = i, enable = False)\n",
    "      acc_gat.append(train_test.test(gat, graphs, graphs.test_mask))\n",
    "\n",
    "#==========================GCN===============================================  \n",
    "\n",
    "      \n",
    "      gcn = GCN(2048, 20, 10).to(device)\n",
    "      train_test.train(gcn, graphs, epoch = i, enable = False)\n",
    "      acc_gcn.append(train_test.test(gcn, graphs, graphs.test_mask))\n",
    "\n",
    "#==========================SAGE=============================================== \n",
    "\n",
    "      \n",
    "      g_sage = GraphSAGE(2048, 20, 10).to(device)\n",
    "      train_test.train(g_sage, graphs, epoch = i, enable = False)\n",
    "      acc_sage.append(train_test.test(g_sage, graphs, graphs.test_mask))\n",
    "\n",
    "#==========================GAT===============================================\n",
    "\n",
    "  prom_acc_gat.append(np.mean(acc_gat))\n",
    "  dev_values_gat.append(np.std(acc_gat))\n",
    "  num_epochs_gat.append(i)\n",
    "\n",
    "#==========================GCN===============================================  \n",
    "\n",
    "  prom_acc_gcn.append(np.mean(acc_gcn))\n",
    "  dev_values_gcn.append(np.std(acc_gcn))\n",
    "  num_epochs_gcn.append(i)\n",
    "\n",
    "#==========================SAGE===============================================  \n",
    "\n",
    "  prom_acc_sage.append(np.mean(acc_sage))\n",
    "  dev_values_sage.append(np.std(acc_sage))\n",
    "  num_epochs_sage.append(i)\n",
    "\n",
    "  print(f\"GAT\\n accuracy mean: {np.mean(acc_gat)*100:.2f}% | standard deviation: {np.std(acc_gat):.2f} | epochs: {i}\\n\"\n",
    "        f\"GCN\\n accuracy mean: {np.mean(acc_gcn)*100:.2f}% | standard deviation: {np.std(acc_gcn):.2f} | epochs: {i}\\n\"\n",
    "        f\"SAGE\\n accuracy mean: {np.mean(acc_sage)*100:.2f}% | standard deviation: {np.std(acc_sage):.2f} | epochs: {i}\\n\\n\"\n",
    "        f\"==============================================================================================================\")"
   ]
  },
  {
   "cell_type": "code",
   "execution_count": null,
   "metadata": {},
   "outputs": [],
   "source": [
    "arr_num_epochs_gat = np.array(num_epochs_gat)\n",
    "arr_prom_acc_gat = np.array(prom_acc_gat)\n",
    "arr_dev_values_gat = np.array(dev_values_gat)\n",
    "\n",
    "\n",
    "arr_num_epochs_gcn = np.array(num_epochs_gcn)\n",
    "arr_prom_acc_gcn = np.array(prom_acc_gcn)\n",
    "arr_dev_values_gcn = np.array(dev_values_gcn)\n",
    "\n",
    "arr_num_epochs_sage = np.array(num_epochs_sage)\n",
    "arr_prom_acc_sage = np.array(prom_acc_sage)\n",
    "arr_dev_values_sage = np.array(dev_values_sage)\n"
   ]
  },
  {
   "cell_type": "code",
   "execution_count": null,
   "metadata": {},
   "outputs": [],
   "source": [
    "f = h5py.File(\"./variacion_epochs_PANNs.hdf5\", \"w\")\n",
    "\n",
    "dset = f.create_dataset(\"Numero_epochs_GAT\", arr_num_epochs_gat.shape, data = arr_num_epochs_gat)\n",
    "dset = f.create_dataset(\"Promedios_Acc_GAT\", arr_prom_acc_gat.shape, data = arr_prom_acc_gat)\n",
    "dset = f.create_dataset(\"desviacion_GAT\", arr_dev_values_gat.shape, data = arr_dev_values_gat)\n",
    "\n",
    "dset = f.create_dataset(\"Numero_epochs_GCN\", arr_num_epochs_gcn.shape, data = arr_num_epochs_gcn)\n",
    "dset = f.create_dataset(\"Promedios_Acc_GCN\", arr_prom_acc_gcn.shape, data = arr_prom_acc_gcn)\n",
    "dset = f.create_dataset(\"desviacion_GCN\", arr_dev_values_gcn.shape, data = arr_dev_values_gcn)\n",
    "\n",
    "dset = f.create_dataset(\"Numero_epochs_SAGE\", arr_num_epochs_sage.shape, data = arr_num_epochs_sage)\n",
    "dset = f.create_dataset(\"Promedios_Acc_SAGE\", arr_prom_acc_sage.shape, data = arr_prom_acc_sage)\n",
    "dset = f.create_dataset(\"desviacion_SAGE\", arr_dev_values_sage.shape, data = arr_dev_values_sage)\n",
    "\n",
    "\n",
    "f.close()"
   ]
  },
  {
   "cell_type": "code",
   "execution_count": null,
   "metadata": {},
   "outputs": [],
   "source": [
    "file_epochs = h5py.File(\"./variacion_epochs_PANNs.hdf5\", \"r\")"
   ]
  },
  {
   "cell_type": "code",
   "execution_count": null,
   "metadata": {},
   "outputs": [
    {
     "data": {
      "text/plain": [
       "[30, 230, 430, 630, 830, 1030, 1230, 1430, 1630, 1830, 2030]"
      ]
     },
     "execution_count": 26,
     "metadata": {},
     "output_type": "execute_result"
    }
   ],
   "source": [
    "list(file_epochs[\"Numero_epochs_GAT\"])"
   ]
  },
  {
   "cell_type": "code",
   "execution_count": null,
   "metadata": {},
   "outputs": [
    {
     "data": {
      "image/png": "[encoded data removed]",
      "text/plain": [
       "<Figure size 640x480 with 1 Axes>"
      ]
     },
     "metadata": {},
     "output_type": "display_data"
    }
   ],
   "source": [
    "plt.title('PANNs-GAT-epochs')\n",
    "plt.errorbar(list(file_epochs[\"Numero_epochs_GAT\"]), list(file_epochs[\"Promedios_Acc_GAT\"]),  yerr=list(file_epochs[\"desviacion_GAT\"]), fmt=\"o\", capsize=3, ecolor=\"red\")\n",
    "plt.xlabel('Epochs')\n",
    "plt.ylabel('accuracy-mean')\n",
    "\n",
    "#plt.savefig(\"/content/drive/MyDrive/nuevo_codigo/PANNs-GAT-epochs.tiff\", dpi = 300)\n",
    "\n",
    "plt.show()"
   ]
  },
  {
   "cell_type": "code",
   "execution_count": null,
   "metadata": {},
   "outputs": [
    {
     "data": {
      "image/png": "[encoded data removed]",
      "text/plain": [
       "<Figure size 640x480 with 1 Axes>"
      ]
     },
     "metadata": {},
     "output_type": "display_data"
    }
   ],
   "source": [
    "plt.title('PANNs-GCN-epochs')\n",
    "plt.errorbar(list(file_epochs[\"Numero_epochs_GCN\"]), list(file_epochs[\"Promedios_Acc_GCN\"]),  yerr=list(file_epochs[\"desviacion_GCN\"]), fmt=\"o\", capsize=3, ecolor=\"red\")\n",
    "plt.xlabel('Epochs')\n",
    "plt.ylabel('accuracy-mean')\n",
    "plt.show()"
   ]
  },
  {
   "cell_type": "code",
   "execution_count": null,
   "metadata": {},
   "outputs": [
    {
     "data": {
      "image/png": "[encoded data removed]",
      "text/plain": [
       "<Figure size 640x480 with 1 Axes>"
      ]
     },
     "metadata": {},
     "output_type": "display_data"
    }
   ],
   "source": [
    "plt.title('PANNs-SAGE-epochs')\n",
    "plt.errorbar(list(file_epochs[\"Numero_epochs_SAGE\"]), list(file_epochs[\"Promedios_Acc_SAGE\"]),  yerr=list(file_epochs[\"desviacion_SAGE\"]), fmt=\"o\", capsize=3, ecolor=\"red\")\n",
    "plt.xlabel('Epochs')\n",
    "plt.ylabel('accuracy-mean')\n",
    "plt.show()"
   ]
  },
  {
   "attachments": {},
   "cell_type": "markdown",
   "metadata": {},
   "source": [
    "# Variando numero de K vecinos"
   ]
  },
  {
   "cell_type": "code",
   "execution_count": null,
   "metadata": {},
   "outputs": [],
   "source": [
    "path1 = \"UrbanSound8K_8276.csv\"\n",
    "path2 = \"TF_PANNs_8276.hdf5\"\n",
    "dataset = MyOwnDatasetFixedKnn(root = \"../own_dataset/data_PANNs_varying_knn\", path = [path1,path2], enable = True)\n",
    "loader_dataset = DataLoader(dataset)"
   ]
  },
  {
   "cell_type": "code",
   "execution_count": null,
   "metadata": {},
   "outputs": [
    {
     "data": {
      "text/plain": [
       "MyOwnDatasetFixedKnn(109)"
      ]
     },
     "execution_count": 34,
     "metadata": {},
     "output_type": "execute_result"
    }
   ],
   "source": [
    "dataset"
   ]
  },
  {
   "cell_type": "code",
   "execution_count": null,
   "metadata": {},
   "outputs": [],
   "source": [
    "# GAT\n",
    "\n",
    "K_values_gat = []\n",
    "prom_acc_gat = []\n",
    "dev_values_gat = []\n",
    "\n",
    "\n",
    "#GCN\n",
    "\n",
    "K_values_gcn = []\n",
    "prom_acc_gcn = []\n",
    "dev_values_gcn = []\n",
    "\n",
    "#SAGE\n",
    "\n",
    "K_values_sage = []\n",
    "prom_acc_sage = []\n",
    "dev_values_sage = []"
   ]
  },
  {
   "cell_type": "code",
   "execution_count": null,
   "metadata": {},
   "outputs": [],
   "source": [
    "K_values = list(range(5,105,10))\n",
    "epochs = 430"
   ]
  },
  {
   "cell_type": "code",
   "execution_count": null,
   "metadata": {},
   "outputs": [],
   "source": [
    "l = 0\n",
    "\n",
    "for j in range(0, 10):\n",
    "  # GAT\n",
    "\n",
    "  acc_gat = []\n",
    " \n",
    "\n",
    "\n",
    "#GCN\n",
    "\n",
    "  acc_gcn = []\n",
    "  \n",
    "\n",
    "#SAGE\n",
    "\n",
    "  acc_sage = []\n",
    "  \n",
    "\n",
    "  for i in range(l, l + 10):\n",
    "\n",
    "      data_gpu = dataset[i].to(device)\n",
    "#==========================GAT===============================================\n",
    "      \n",
    "      gat = GAT(2048, 20, 10).to(device)\n",
    "      train_test.train(gat, data_gpu, epoch = epochs, enable = False)\n",
    "      acc_gat.append(train_test.test(gat, data_gpu, data_gpu.test_mask))\n",
    "\n",
    "#==========================GCN===============================================  \n",
    "\n",
    "      \n",
    "      gcn = GCN(2048, 20, 10).to(device)\n",
    "      train_test.train(gcn, data_gpu, epoch = epochs, enable = False)\n",
    "      acc_gcn.append(train_test.test(gcn, data_gpu, data_gpu.test_mask))\n",
    "\n",
    "#==========================SAGE=============================================== \n",
    "\n",
    "      \n",
    "      g_sage = GraphSAGE(2048, 20, 10).to(device)\n",
    "      train_test.train(g_sage, data_gpu, epoch = epochs, enable = False)\n",
    "      acc_sage.append(train_test.test(g_sage, data_gpu, data_gpu.test_mask))\n",
    "\n",
    "#==========================GAT===============================================\n",
    "  l = i + 1\n",
    "  prom_acc_gat.append(np.mean(acc_gat))\n",
    "  dev_values_gat.append(np.std(acc_gat))\n",
    "  \n",
    "\n",
    "#==========================GCN===============================================  \n",
    "\n",
    "  prom_acc_gcn.append(np.mean(acc_gcn))\n",
    "  dev_values_gcn.append(np.std(acc_gcn))\n",
    "  \n",
    "\n",
    "#==========================SAGE===============================================  \n",
    "\n",
    "  prom_acc_sage.append(np.mean(acc_sage))\n",
    "  dev_values_sage.append(np.std(acc_sage))\n",
    "  \n",
    "\n",
    "  print(f\"GAT\\n accuracy mean: {np.mean(acc_gat)*100:.2f}% | standard deviation: {np.std(acc_gat):.2f} | Valor de K: {K_values[j]}\\n\"\n",
    "        f\"GCN\\n accuracy mean: {np.mean(acc_gcn)*100:.2f}% | standard deviation: {np.std(acc_gcn):.2f} | Valor de K: {K_values[j]}\\n\"\n",
    "        f\"SAGE\\n accuracy mean: {np.mean(acc_sage)*100:.2f}% | standard deviation: {np.std(acc_sage):.2f} | Valor de K: {K_values[j]}\\n\\n\"\n",
    "        f\"==============================================================================================================\")\n"
   ]
  },
  {
   "cell_type": "code",
   "execution_count": 53,
   "metadata": {},
   "outputs": [],
   "source": [
    "arr_K_values= np.array(K_values)\n",
    "arr_prom_acc_gat = np.array(prom_acc_gat)\n",
    "arr_dev_values_gat = np.array(dev_values_gat)\n",
    "\n",
    "\n",
    "arr_K_values = np.array(K_values)\n",
    "arr_prom_acc_gcn = np.array(prom_acc_gcn)\n",
    "arr_dev_values_gcn = np.array(dev_values_gcn)\n",
    "\n",
    "arr_K_values = np.array(K_values)\n",
    "arr_prom_acc_sage = np.array(prom_acc_sage)\n",
    "arr_dev_values_sage = np.array(dev_values_sage)"
   ]
  },
  {
   "cell_type": "code",
   "execution_count": 54,
   "metadata": {},
   "outputs": [],
   "source": [
    "f = h5py.File(\"./variation_knn_PANNs.hdf5\", \"w\")\n",
    "\n",
    "dset = f.create_dataset(\"Numero_knn_GAT\", arr_K_values.shape, data = arr_K_values)\n",
    "dset = f.create_dataset(\"Promedios_Acc_GAT\", arr_prom_acc_gat.shape, data = arr_prom_acc_gat)\n",
    "dset = f.create_dataset(\"desviacion_GAT\", arr_dev_values_gat.shape, data = arr_dev_values_gat)\n",
    "\n",
    "dset = f.create_dataset(\"Numero_knn_GCN\", arr_K_values.shape, data = arr_K_values)\n",
    "dset = f.create_dataset(\"Promedios_Acc_GCN\", arr_prom_acc_gcn.shape, data = arr_prom_acc_gcn)\n",
    "dset = f.create_dataset(\"desviacion_GCN\", arr_dev_values_gcn.shape, data = arr_dev_values_gcn)\n",
    "\n",
    "dset = f.create_dataset(\"Numero_knn_SAGE\", arr_K_values.shape, data = arr_K_values)\n",
    "dset = f.create_dataset(\"Promedios_Acc_SAGE\", arr_prom_acc_sage.shape, data = arr_prom_acc_sage)\n",
    "dset = f.create_dataset(\"desviacion_SAGE\", arr_dev_values_sage.shape, data = arr_dev_values_sage)\n",
    "\n",
    "\n",
    "f.close()"
   ]
  },
  {
   "cell_type": "code",
   "execution_count": 55,
   "metadata": {},
   "outputs": [],
   "source": [
    "file_KNN = h5py.File(\"./variation_knn_PANNs.hdf5\", \"r\")"
   ]
  },
  {
   "cell_type": "code",
   "execution_count": null,
   "metadata": {},
   "outputs": [],
   "source": [
    "plt.title('PANNs-GAT-KNN')\n",
    "plt.errorbar(list(file_KNN[\"Numero_knn_GAT\"]), list(file_KNN[\"Promedios_Acc_GAT\"]),  yerr=list(file_KNN[\"desviacion_GAT\"]), fmt=\"o\", capsize=3, ecolor=\"red\")\n",
    "plt.xlabel('Epochs')\n",
    "plt.ylabel('accuracy-mean')"
   ]
  },
  {
   "cell_type": "code",
   "execution_count": null,
   "metadata": {},
   "outputs": [],
   "source": [
    "plt.title('PANNs-GCN-KNN')\n",
    "plt.errorbar(list(file_KNN[\"Numero_knn_GCN\"]), list(file_KNN[\"Promedios_Acc_GCN\"]),  yerr=list(file_KNN[\"desviacion_GCN\"]), fmt=\"o\", capsize=3, ecolor=\"red\")\n",
    "plt.xlabel('Epochs')\n",
    "plt.ylabel('accuracy-mean')\n",
    "plt.show()"
   ]
  },
  {
   "cell_type": "code",
   "execution_count": null,
   "metadata": {},
   "outputs": [],
   "source": [
    "plt.title('PANNs-SAGE-KNN')\n",
    "plt.errorbar(list(file_KNN[\"Numero_knn_SAGE\"]), list(file_KNN[\"Promedios_Acc_SAGE\"]),  yerr=list(file_KNN[\"desviacion_SAGE\"]), fmt=\"o\", capsize=3, ecolor=\"red\")\n",
    "plt.xlabel('Epochs')\n",
    "plt.ylabel('accuracy-mean')\n",
    "plt.show()"
   ]
  }
 ],
 "metadata": {
  "kernelspec": {
   "display_name": "env",
   "language": "python",
   "name": "python3"
  },
  "language_info": {
   "codemirror_mode": {
    "name": "ipython",
    "version": 3
   },
   "file_extension": ".py",
   "mimetype": "text/x-python",
   "name": "python",
   "nbconvert_exporter": "python",
   "pygments_lexer": "ipython3",
   "version": "3.8.10"
  },
  "orig_nbformat": 4
 },
 "nbformat": 4,
 "nbformat_minor": 2
}
