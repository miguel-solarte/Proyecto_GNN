{
 "cells": [
  {
   "cell_type": "code",
   "execution_count": 1,
   "metadata": {},
   "outputs": [
    {
     "name": "stderr",
     "output_type": "stream",
     "text": [
      "/home/miguel/trabajo_grado/Proyecto_GNN/env/lib/python3.10/site-packages/tqdm/auto.py:21: TqdmWarning: IProgress not found. Please update jupyter and ipywidgets. See https://ipywidgets.readthedocs.io/en/stable/user_install.html\n",
      "  from .autonotebook import tqdm as notebook_tqdm\n"
     ]
    }
   ],
   "source": [
    "import random\n",
    "import numpy as np\n",
    "#import pandas as pd\n",
    "\n",
    "#import matplotlib.pyplot as plt\n",
    "\n",
    "\n",
    "import torch\n",
    "import torch.nn as nn\n",
    "import torch.nn.functional as F\n",
    "\n",
    "import time"
   ]
  },
  {
   "cell_type": "code",
   "execution_count": 2,
   "metadata": {},
   "outputs": [
    {
     "name": "stdout",
     "output_type": "stream",
     "text": [
      "cuda\n"
     ]
    }
   ],
   "source": [
    "device = torch.device('cuda' if torch.cuda.is_available() else 'cpu')\n",
    "print(device)"
   ]
  },
  {
   "cell_type": "code",
   "execution_count": 3,
   "metadata": {},
   "outputs": [],
   "source": [
    "def accuracy(pred_y, y):\n",
    "    \n",
    "    return ((pred_y == y).sum() / len(y)).item()\n",
    "\n",
    "def test(model, data, mask):\n",
    "    \n",
    "    model.eval()\n",
    "    out = model(data.x, data.edge_index)\n",
    "    acc = accuracy(torch.argmax(out, dim = 1)[mask], data.y[mask])\n",
    "    return acc\n",
    "\n",
    "def train(model, data, epoch, enable):\n",
    "    \n",
    "    f_loss = nn.CrossEntropyLoss()\n",
    "    optimizer = model.optimizer\n",
    "    epochs = epoch\n",
    "\n",
    "    model.train()\n",
    "    for epoch in range(epochs+1):\n",
    "        \n",
    "        optimizer.zero_grad()\n",
    "        out = model(data.x, data.edge_index)\n",
    "        loss = f_loss(out[data.train_mask], data.y[data.train_mask])\n",
    "        acc = accuracy(torch.argmax(out, dim = 1)[data.train_mask], data.y[data.train_mask])\n",
    "        loss.backward()\n",
    "        optimizer.step()\n",
    "\n",
    "        \n",
    "        \n",
    "        val_acc = test(model, data, data.val_mask)\n",
    "\n",
    "        if enable == True:\n",
    "          if(epoch % 10 == 0):\n",
    "            print(f'Epoch {epoch:>3} | Train Loss: {loss:.3f} | Train Acc: '\n",
    "                  f'{acc*100:>6.2f}% |' f'Val Acc: {val_acc*100:.2f}%')\n",
    "          \n",
    "    return model"
   ]
  },
  {
   "cell_type": "code",
   "execution_count": 4,
   "metadata": {},
   "outputs": [
    {
     "name": "stdout",
     "output_type": "stream",
     "text": [
      "1.13.1+cu117\n"
     ]
    }
   ],
   "source": [
    "print(torch.__version__)"
   ]
  },
  {
   "cell_type": "code",
   "execution_count": 5,
   "metadata": {},
   "outputs": [],
   "source": [
    "from torch.nn import Linear, Dropout\n",
    "from torch_geometric.nn import GCNConv, GATv2Conv, SAGEConv"
   ]
  },
  {
   "cell_type": "code",
   "execution_count": 6,
   "metadata": {},
   "outputs": [],
   "source": [
    "class GAT(torch.nn.Module):\n",
    "  def __init__(self, dim_in, dim_h, dim_out, heads=10):\n",
    "    super().__init__()\n",
    "    self.gat1 = GATv2Conv(dim_in, dim_h, heads=heads)\n",
    "    self.gat2 = GATv2Conv(dim_h*heads, dim_out, heads=1)\n",
    "    self.optimizer = torch.optim.Adam(self.parameters(),\n",
    "                                      lr=0.001,\n",
    "                                      weight_decay=5e-4)\n",
    "\n",
    "  def forward(self, x, edge_index):\n",
    "    h = F.dropout(x, p=0.5, training=self.training)\n",
    "    h = self.gat1(h, edge_index)\n",
    "    h = F.relu(h)\n",
    "    h = F.dropout(h, p=0.5, training=self.training)\n",
    "    h = self.gat2(h, edge_index)\n",
    "  \n",
    "    return h"
   ]
  },
  {
   "cell_type": "code",
   "execution_count": 7,
   "metadata": {},
   "outputs": [],
   "source": [
    "class GCN(torch.nn.Module):\n",
    "  def __init__(self, dim_in, dim_h, dim_out):\n",
    "    super().__init__()\n",
    "    self.gcn1 = GCNConv(dim_in, dim_h)\n",
    "    self.gcn2 = GCNConv(dim_h, dim_out)\n",
    "    self.optimizer = torch.optim.Adam(self.parameters(),\n",
    "                                      lr=0.001,\n",
    "                                      weight_decay=5e-4)\n",
    "\n",
    "  def forward(self, x, edge_index):\n",
    "    h = F.dropout(x, p=0.5, training=self.training)\n",
    "    h = self.gcn1(h, edge_index)\n",
    "    h = torch.relu(h)\n",
    "    h = F.dropout(h, p=0.5, training=self.training)\n",
    "    h = self.gcn2(h, edge_index)\n",
    "    \n",
    "    return h"
   ]
  },
  {
   "cell_type": "code",
   "execution_count": 8,
   "metadata": {},
   "outputs": [],
   "source": [
    "class GraphSAGE(torch.nn.Module):\n",
    "    def __init__(self, in_dim, hidden_dim, out_dim):\n",
    "        super().__init__()\n",
    "        self.conv1 = SAGEConv(in_dim, hidden_dim)\n",
    "        self.conv2 = SAGEConv(hidden_dim, out_dim)\n",
    "        self.optimizer = torch.optim.Adam(self.parameters(),\n",
    "                                      lr=0.001,\n",
    "                                      weight_decay=5e-4)\n",
    "    \n",
    "    def forward(self, x, edge_index):\n",
    "        h = F.dropout(x, p=0.5)\n",
    "        h = self.conv1(h, edge_index)\n",
    "        h = F.relu(h)\n",
    "        h = F.dropout(h, p=0.5)\n",
    "        h = self.conv2(h, edge_index)\n",
    "       \n",
    "        return h"
   ]
  },
  {
   "cell_type": "code",
   "execution_count": 9,
   "metadata": {},
   "outputs": [],
   "source": [
    "from torch_geometric.data import Dataset, Data\n",
    "from torch_geometric.nn import knn_graph\n",
    "\n",
    "import os.path as osp\n",
    "#import pandas as pd\n",
    "import torch\n",
    "\n",
    "\n",
    "\n",
    "\n",
    "class MyOwnDatasetFixedKnn(Dataset):\n",
    "    def __init__(self, root, path, enable = False , transform=None, pre_transform=None, pre_filter=None):\n",
    "      self.path = path\n",
    "      self.enable = enable\n",
    "      super().__init__(root, transform, pre_transform, pre_filter)\n",
    "\n",
    "    @property\n",
    "    def raw_file_names(self):\n",
    "        return self.path\n",
    "\n",
    "    @property\n",
    "    def processed_file_names(self):\n",
    "      if self.enable == False:\n",
    "        return [f'data_{i}.pt' for i in range(10)]\n",
    "      else: \n",
    "        return [f'data_{i}.pt' for i in range(109)]\n",
    "\n",
    "    def len(self):\n",
    "        return len(self.processed_file_names)\n",
    "\n",
    "    def get(self, idx):\n",
    "        data = torch.load(osp.join(self.processed_dir, f'data_{idx}.pt'))\n",
    "        return data"
   ]
  },
  {
   "cell_type": "code",
   "execution_count": 14,
   "metadata": {},
   "outputs": [],
   "source": [
    "from torch_geometric.loader import DataLoader\n",
    "\n",
    "path1 = \"UrbanSound8K_8276.csv\"\n",
    "path2 = \"TF_PANNs_8276.hdf5\"\n",
    "dataset = MyOwnDatasetFixedKnn(root = \"./own_dataset/data_PANNs_fixed_knn\", path = [path1,path2])\n",
    "loader_dataset = DataLoader(dataset) "
   ]
  },
  {
   "cell_type": "code",
   "execution_count": 15,
   "metadata": {},
   "outputs": [
    {
     "data": {
      "text/plain": [
       "MyOwnDatasetFixedKnn(10)"
      ]
     },
     "execution_count": 15,
     "metadata": {},
     "output_type": "execute_result"
    }
   ],
   "source": [
    "dataset"
   ]
  },
  {
   "cell_type": "code",
   "execution_count": 16,
   "metadata": {},
   "outputs": [],
   "source": [
    "#GAT\n",
    "\n",
    "  \n",
    "prom_acc_gat = []\n",
    "dev_values_gat = []\n",
    "num_epochs_gat = []\n",
    "\n",
    "#GCN\n",
    "\n",
    "\n",
    "prom_acc_gcn = []\n",
    "dev_values_gcn = []\n",
    "num_epochs_gcn = []\n",
    "\n",
    "#SAGE\n",
    "\n",
    "\n",
    "prom_acc_sage = []\n",
    "dev_values_sage = []\n",
    "num_epochs_sage = []"
   ]
  },
  {
   "cell_type": "code",
   "execution_count": null,
   "metadata": {},
   "outputs": [],
   "source": [
    "for i in range(30,2230,200):\n",
    "#GAT\n",
    "\n",
    "  acc_gat = []\n",
    " \n",
    "\n",
    "#GCN\n",
    "\n",
    "  acc_gcn = []\n",
    "\n",
    "\n",
    "#SAGE\n",
    "\n",
    "  acc_sage = []\n",
    "\n",
    "\n",
    "  for n, graphs in enumerate(loader_dataset):\n",
    "#==========================GAT===============================================\n",
    "      graphs.to(device)\n",
    "      gat = GAT(2048, 20, 10).to(device)\n",
    "      train(gat, graphs, epoch = i, enable = False)\n",
    "      acc_gat.append(test(gat, graphs, graphs.test_mask))\n",
    "\n",
    "#==========================GCN===============================================  \n",
    "\n",
    "      \n",
    "      gcn = GCN(2048, 20, 10).to(device)\n",
    "      train(gcn, graphs, epoch = i, enable = False)\n",
    "      acc_gcn.append(test(gcn, graphs, graphs.test_mask))\n",
    "\n",
    "#==========================SAGE=============================================== \n",
    "\n",
    "      \n",
    "      g_sage = GraphSAGE(2048, 20, 10).to(device)\n",
    "      train(g_sage, graphs, epoch = i, enable = False)\n",
    "      acc_sage.append(test(g_sage, graphs, graphs.test_mask))\n",
    "\n",
    "#==========================GAT===============================================\n",
    "\n",
    "  prom_acc_gat.append(np.mean(acc_gat))\n",
    "  dev_values_gat.append(np.std(acc_gat))\n",
    "  num_epochs_gat.append(i)\n",
    "\n",
    "#==========================GCN===============================================  \n",
    "\n",
    "  prom_acc_gcn.append(np.mean(acc_gcn))\n",
    "  dev_values_gcn.append(np.std(acc_gcn))\n",
    "  num_epochs_gcn.append(i)\n",
    "\n",
    "#==========================SAGE===============================================  \n",
    "\n",
    "  prom_acc_sage.append(np.mean(acc_sage))\n",
    "  dev_values_sage.append(np.std(acc_sage))\n",
    "  num_epochs_sage.append(i)\n",
    "\n",
    "  print(f\"GAT\\n accuracy mean: {np.mean(acc_gat)*100:.2f}% | standard deviation: {np.std(acc_gat):.2f} | epochs: {i}\\n\"\n",
    "        f\"GCN\\n accuracy mean: {np.mean(acc_gcn)*100:.2f}% | standard deviation: {np.std(acc_gcn):.2f} | epochs: {i}\\n\"\n",
    "        f\"SAGE\\n accuracy mean: {np.mean(acc_sage)*100:.2f}% | standard deviation: {np.std(acc_sage):.2f} | epochs: {i}\\n\\n\"\n",
    "        f\"==============================================================================================================\")"
   ]
  },
  {
   "cell_type": "code",
   "execution_count": null,
   "metadata": {},
   "outputs": [],
   "source": []
  }
 ],
 "metadata": {
  "kernelspec": {
   "display_name": "env",
   "language": "python",
   "name": "python3"
  },
  "language_info": {
   "codemirror_mode": {
    "name": "ipython",
    "version": 3
   },
   "file_extension": ".py",
   "mimetype": "text/x-python",
   "name": "python",
   "nbconvert_exporter": "python",
   "pygments_lexer": "ipython3",
   "version": "3.10.6"
  },
  "orig_nbformat": 4
 },
 "nbformat": 4,
 "nbformat_minor": 2
}
